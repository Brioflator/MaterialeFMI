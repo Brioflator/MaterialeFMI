{
 "cells": [
  {
   "cell_type": "code",
   "execution_count": 30,
   "metadata": {},
   "outputs": [],
   "source": [
    "def GetMinimumHealth(initial_players, new_players, rank):\n",
    "    ordered_players = sorted(initial_players, reverse=True)\n",
    "    sum=ordered_players[rank-1]\n",
    "    for new_player in new_players:\n",
    "        \n",
    "        for i in range (0, len(ordered_players)):\n",
    "            if new_player >= ordered_players[i]:\n",
    "                ordered_players.insert(i, new_player)\n",
    "                break\n",
    "        sum += ordered_players[rank-1]\n",
    "        \n",
    "    return sum\n",
    "    "
   ]
  },
  {
   "cell_type": "code",
   "execution_count": null,
   "metadata": {},
   "outputs": [],
   "source": [
    "import heapq\n",
    "\n",
    "def GetMinimumHealth(initial_players, new_players, rank):\n",
    "    # Use a min heap to keep track of the top 'rank' players\n",
    "    ordered_players = heapq.nlargest(rank, initial_players)\n",
    "    sum_health = sum(ordered_players)\n",
    "    \n",
    "    for new_player in new_players:\n",
    "        # If the new player's health is greater than the smallest in the heap\n",
    "        if len(ordered_players) < rank or new_player > ordered_players[0]:\n",
    "            # If the heap is already 'rank' players large, remove the smallest player\n",
    "            if len(ordered_players) == rank:\n",
    "                sum_health -= heapq.heappushpop(ordered_players, new_player)\n",
    "            else:\n",
    "                heapq.heappush(ordered_players, new_player)\n",
    "            sum_health += new_player\n",
    "\n",
    "    return sum_health"
   ]
  },
  {
   "cell_type": "code",
   "execution_count": null,
   "metadata": {},
   "outputs": [],
   "source": []
  }
 ],
 "metadata": {
  "kernelspec": {
   "display_name": "my-env",
   "language": "python",
   "name": "python3"
  },
  "language_info": {
   "codemirror_mode": {
    "name": "ipython",
    "version": 3
   },
   "file_extension": ".py",
   "mimetype": "text/x-python",
   "name": "python",
   "nbconvert_exporter": "python",
   "pygments_lexer": "ipython3",
   "version": "3.11.5"
  }
 },
 "nbformat": 4,
 "nbformat_minor": 2
}
