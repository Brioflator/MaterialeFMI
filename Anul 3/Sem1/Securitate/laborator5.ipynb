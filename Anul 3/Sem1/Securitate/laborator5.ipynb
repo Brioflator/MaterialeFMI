{
 "cells": [
  {
   "cell_type": "markdown",
   "metadata": {},
   "source": [
    "### Exercitiul 1"
   ]
  },
  {
   "cell_type": "code",
   "execution_count": 2,
   "metadata": {},
   "outputs": [
    {
     "name": "stdout",
     "output_type": "stream",
     "text": [
      "100\n",
      "0\n",
      "0\n"
     ]
    }
   ],
   "source": [
    "# Candidat 1\n",
    "\n",
    "from time import sleep\n",
    "seed = int(input(\"Introduceti seed: \"))\n",
    "\n",
    "try:\n",
    "    while True:\n",
    "        print(seed)\n",
    "        sleep(1)\n",
    "        seed = seed ^ seed\n",
    "except KeyboardInterrupt:\n",
    "    pass\n",
    "\n",
    "# se executa operatia xor intre 2 numere identice\n",
    "# iar rezultatul va fi mereu 0"
   ]
  },
  {
   "cell_type": "code",
   "execution_count": 3,
   "metadata": {},
   "outputs": [
    {
     "name": "stdout",
     "output_type": "stream",
     "text": [
      "100\n",
      "150\n",
      "225\n",
      "337\n",
      "505\n"
     ]
    }
   ],
   "source": [
    "# Candidat 2\n",
    "\n",
    "from time import sleep\n",
    "seed = int(input(\"Introduceti seed: \"))\n",
    "\n",
    "try:\n",
    "    while True:\n",
    "        print(seed)\n",
    "        sleep(1)\n",
    "        seed = int(seed + seed/2)\n",
    "except KeyboardInterrupt:\n",
    "    pass\n",
    "\n",
    "# La fiecare pas se inmulteste seed-ul\n",
    "# cu 1.5 ceea ce face rezultatul predictibil"
   ]
  },
  {
   "cell_type": "code",
   "execution_count": 4,
   "metadata": {},
   "outputs": [
    {
     "name": "stdout",
     "output_type": "stream",
     "text": [
      "1024\n",
      "256\n",
      "64\n",
      "16\n",
      "4\n",
      "1\n"
     ]
    }
   ],
   "source": [
    "# Candidat 3\n",
    "\n",
    "from time import sleep\n",
    "seed = int(input(\"Introduceti seed: \"))\n",
    "\n",
    "try:\n",
    "    while True:\n",
    "        print(seed)\n",
    "        sleep(1)\n",
    "        seed = seed >> 2\n",
    "except KeyboardInterrupt:\n",
    "    pass\n",
    "\n",
    "# Se shifteaza seedul cu 2 pozitii la dreapta\n",
    "# adica se imparte la 4, ajungandu-se la 0"
   ]
  },
  {
   "cell_type": "markdown",
   "metadata": {},
   "source": [
    "### Exercitiul 2"
   ]
  },
  {
   "cell_type": "code",
   "execution_count": 1,
   "metadata": {},
   "outputs": [
    {
     "name": "stdout",
     "output_type": "stream",
     "text": [
      "abcdefghijklmnopqrstuvwxyzABCDEFGHIJKLMNOPQRSTUVWXYZ0123456789.,!@$?#%^&*\n"
     ]
    }
   ],
   "source": [
    "import string, secrets\n",
    "alphabet = string.ascii_letters + string.digits + '.,!@$?#%^&*'\n",
    "print(alphabet)"
   ]
  },
  {
   "cell_type": "markdown",
   "metadata": {},
   "source": [
    "1. Generează o parolă de minim 10 caractere care conține cel puțin o literă mare, o literă mică, o cifră și un caracter special (.!$@).\n",
    "\n",
    "**Utilizare:** Generarea unei parole sigure pentru un utilizator"
   ]
  },
  {
   "cell_type": "code",
   "execution_count": 6,
   "metadata": {},
   "outputs": [
    {
     "name": "stdout",
     "output_type": "stream",
     "text": [
      "F6!kZnM*ZX\n"
     ]
    }
   ],
   "source": [
    "while True:\n",
    "    password = ''.join(secrets.choice(alphabet) for i in range(10))\n",
    "    if (any(ch.islower() for ch in password) and \n",
    "        any(ch.isupper() for ch in password) and \n",
    "        any(ch.isdigit() for ch in password) and\n",
    "        any(ch in string.punctuation for ch in password)):\n",
    "        break\n",
    "\n",
    "print(password)"
   ]
  },
  {
   "cell_type": "markdown",
   "metadata": {},
   "source": [
    "2. Generează un string URL-safe de (cel puțin) 32 caractere.\n",
    "\n",
    "**Utilizare**: pentru un link de confirmare a unui cont"
   ]
  },
  {
   "cell_type": "code",
   "execution_count": 7,
   "metadata": {},
   "outputs": [
    {
     "name": "stdout",
     "output_type": "stream",
     "text": [
      "OYutzZPtxnUA2Z0gK01qfgGmqzhTpxByFKqUR9ur3L8\n"
     ]
    }
   ],
   "source": [
    "url_safe_string = secrets.token_urlsafe(32)\n",
    "print(url_safe_string)"
   ]
  },
  {
   "cell_type": "markdown",
   "metadata": {},
   "source": [
    "3. Generează un token hexazecimal de (cel puțin) 32 cifre hexazecimale.\n",
    "\n",
    "**Utilizare**: autentificare unui utilizator"
   ]
  },
  {
   "cell_type": "code",
   "execution_count": 8,
   "metadata": {},
   "outputs": [
    {
     "name": "stdout",
     "output_type": "stream",
     "text": [
      "65f1d856676b41389ba3cabb141a55cc78c5d776c74374f50644b53aba8d11df\n"
     ]
    }
   ],
   "source": [
    "url_safe_string = secrets.token_hex(32)\n",
    "print(url_safe_string)"
   ]
  },
  {
   "cell_type": "markdown",
   "metadata": {},
   "source": [
    "4. Verifică dacă 2 secvențe sunt identice sau nu, minimizând riscul unui atac de timp (timing attack)."
   ]
  },
  {
   "cell_type": "code",
   "execution_count": 9,
   "metadata": {},
   "outputs": [
    {
     "name": "stdout",
     "output_type": "stream",
     "text": [
      "True\n"
     ]
    }
   ],
   "source": [
    "string1 = secrets.token_bytes(64)\n",
    "string2 = string1\n",
    "\n",
    "result = secrets.compare_digest(string1, string2)\n",
    "print(result)"
   ]
  },
  {
   "cell_type": "markdown",
   "metadata": {},
   "source": [
    "5. Generează o cheie fluidă binară care ulterior să poată fi folosită pentru criptarea unui mesaj de 100 caractere."
   ]
  },
  {
   "cell_type": "code",
   "execution_count": 10,
   "metadata": {},
   "outputs": [
    {
     "name": "stdout",
     "output_type": "stream",
     "text": [
      "b'\\x91\\xd8|h\\xa8i\\xa5o>\\x16\\xa9\\xac\\x05\\xc3\\xa97|YV\\xd7\\x0c}\\xdb\"\\xfb4%\\x06kF*\\x87I\\x95\\xc8\\xfa(\\xec)\\xa3V{2\\xf6V\\xea\\xde\\x98E?\\xa4\\xccn \\xeb\\xa0\\xae:N}[7\\xc8\\xec\\x0e\\xf8C\\xb2\\x05j\\x15JY^<\\xd6k\\xdc\\xe4V\\x8c\\xaf\\xad\\x1fH\\xff\\x17\\xbcS]q]\\x98\\xe5C\\\\\\xe8g\\x81<'\n"
     ]
    }
   ],
   "source": [
    "import binascii\n",
    "\n",
    "key = secrets.token_bytes(100)\n",
    "print(key)"
   ]
  },
  {
   "cell_type": "markdown",
   "metadata": {},
   "source": [
    "6. Stochează parole folosind un modul / o librărie care să ofere un nivel suficient de securitate.\n",
    "\n",
    "***Metoda aleasa***: PBKDF2 (Password-Based Key Derivation Function 2)"
   ]
  },
  {
   "cell_type": "code",
   "execution_count": 2,
   "metadata": {},
   "outputs": [
    {
     "name": "stdout",
     "output_type": "stream",
     "text": [
      "b'3797f736e969ef58278fe8573f0b8cabe7ff7145d5c336841765c76260477362'\n"
     ]
    }
   ],
   "source": [
    "import binascii\n",
    "from backports.pbkdf2 import pbkdf2_hmac\n",
    "\n",
    "salt = secrets.token_bytes(32)\n",
    "password = \"parola\".encode(\"utf8\")\n",
    "key = pbkdf2_hmac(\"sha256\", password, salt, 50000, 32)\n",
    "print(binascii.hexlify(key))"
   ]
  }
 ],
 "metadata": {
  "kernelspec": {
   "display_name": "Python 3.10.7 64-bit",
   "language": "python",
   "name": "python3"
  },
  "language_info": {
   "codemirror_mode": {
    "name": "ipython",
    "version": 3
   },
   "file_extension": ".py",
   "mimetype": "text/x-python",
   "name": "python",
   "nbconvert_exporter": "python",
   "pygments_lexer": "ipython3",
   "version": "3.11.3"
  },
  "orig_nbformat": 4,
  "vscode": {
   "interpreter": {
    "hash": "000415aa154d9136c8fc53aa093a6cffdce1a35468ce3069257e83f15b601b3f"
   }
  }
 },
 "nbformat": 4,
 "nbformat_minor": 2
}
